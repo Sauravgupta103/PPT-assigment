{
 "cells": [
  {
   "cell_type": "code",
   "execution_count": 15,
   "id": "bdca5f35-f3c2-41d0-adf3-de82f3b55891",
   "metadata": {},
   "outputs": [
    {
     "name": "stdin",
     "output_type": "stream",
     "text": [
      "input number 8\n"
     ]
    },
    {
     "name": "stdout",
     "output_type": "stream",
     "text": [
      "0\n",
      "1\n",
      "2\n",
      "3\n",
      "4\n"
     ]
    }
   ],
   "source": [
    "# Write a program to print numbers from  to 0, but stop if the number is 5.\n",
    "n = int(input(\"input number\"))# grater than 5\n",
    "for i in range(n):\n",
    "    if i == 5 :\n",
    "        break\n",
    "    print(i)\n",
    "        \n"
   ]
  },
  {
   "cell_type": "code",
   "execution_count": 17,
   "id": "1f0b3494-e0be-486b-9f62-a9c32b3824c0",
   "metadata": {},
   "outputs": [
    {
     "name": "stdout",
     "output_type": "stream",
     "text": [
      "saurav\n"
     ]
    }
   ],
   "source": [
    "# . Write a program to iterate through a list and stop when encountering a specific element.\n",
    "list1=[\"saurav\",\"gupta\",\"tushar\",\"manali\",\"shivani\"]\n",
    "for i in list1:\n",
    "    if i == \"gupta\":\n",
    "        break\n",
    "    print(i)"
   ]
  },
  {
   "cell_type": "code",
   "execution_count": 19,
   "id": "7c6f0a2b-2931-4a6f-bdcf-58ac662c9697",
   "metadata": {},
   "outputs": [
    {
     "name": "stdin",
     "output_type": "stream",
     "text": [
      "enter a number 10\n"
     ]
    },
    {
     "name": "stdout",
     "output_type": "stream",
     "text": [
      "1\n",
      "3\n",
      "5\n",
      "7\n",
      "9\n"
     ]
    }
   ],
   "source": [
    "# Write a program to skip printing even numbers from  to 0.\n",
    "number = int(input(\"enter a number\"))\n",
    "for i in range (number+1):\n",
    "     if i%2==0:\n",
    "        continue\n",
    "     print(i)\n",
    "             \n",
    "             \n"
   ]
  },
  {
   "cell_type": "code",
   "execution_count": 20,
   "id": "38abaa7e-e36d-41da-99a0-25c54c282d5f",
   "metadata": {},
   "outputs": [
    {
     "name": "stdout",
     "output_type": "stream",
     "text": [
      "0\n",
      "1\n",
      "2\n",
      "3\n",
      "4\n",
      "5\n",
      "6\n",
      "7\n",
      "8\n",
      "9\n"
     ]
    }
   ],
   "source": [
    "# Write a program to print numbers from 0 to 9 using range.\n",
    "for i in range(10):\n",
    "    print(i)\n"
   ]
  },
  {
   "cell_type": "code",
   "execution_count": 21,
   "id": "2861cf66-b331-453c-ab8d-bffea6bb7e0d",
   "metadata": {},
   "outputs": [
    {
     "data": {
      "text/plain": [
       "' Write a program to print multiplication tables from  to 5, but stop after the first table is printed for each\\nnumber.'"
      ]
     },
     "execution_count": 21,
     "metadata": {},
     "output_type": "execute_result"
    }
   ],
   "source": [
    "\"\"\" Write a program to print multiplication tables from  to 5, but stop after the first table is printed for each\n",
    "number.\"\"\""
   ]
  },
  {
   "cell_type": "code",
   "execution_count": 5,
   "id": "28e50668-41d8-4cd4-8dc9-53aef78aed75",
   "metadata": {},
   "outputs": [
    {
     "name": "stdin",
     "output_type": "stream",
     "text": [
      "input a number for printing the Table:  2\n"
     ]
    },
    {
     "name": "stdout",
     "output_type": "stream",
     "text": [
      "1\n",
      "2\n",
      "3\n",
      "4\n",
      "5\n",
      "6\n",
      "7\n",
      "8\n",
      "9\n",
      "10\n"
     ]
    }
   ],
   "source": [
    "NUMBER = int(input(\"input a number for printing the Table: \"))\n",
    "for i in range(1,11):\n",
    "    for j in range(1,NUMBER):\n",
    "        print(i*j)\n",
    "             "
   ]
  },
  {
   "cell_type": "code",
   "execution_count": 4,
   "id": "f4ce53aa-4339-4e09-bd2b-297d626a4717",
   "metadata": {},
   "outputs": [
    {
     "name": "stdout",
     "output_type": "stream",
     "text": [
      "1\n",
      "3\n",
      "5\n",
      "7\n",
      "9\n"
     ]
    }
   ],
   "source": [
    "num=1\n",
    "while num<=10:\n",
    "    if num%2==0:\n",
    "         num=num+1\n",
    "        \n",
    "         continue\n",
    "    print(num)\n",
    "    num=num+1"
   ]
  },
  {
   "cell_type": "code",
   "execution_count": 2,
   "id": "0e488a72-4f04-4b7b-9495-ab119d965685",
   "metadata": {},
   "outputs": [
    {
     "data": {
      "text/plain": [
       "11"
      ]
     },
     "execution_count": 2,
     "metadata": {},
     "output_type": "execute_result"
    }
   ],
   "source": []
  },
  {
   "cell_type": "code",
   "execution_count": null,
   "id": "ed52ec7c-b9c8-46c6-bafc-8f807662d94a",
   "metadata": {},
   "outputs": [],
   "source": []
  }
 ],
 "metadata": {
  "kernelspec": {
   "display_name": "Python 3 (ipykernel)",
   "language": "python",
   "name": "python3"
  },
  "language_info": {
   "codemirror_mode": {
    "name": "ipython",
    "version": 3
   },
   "file_extension": ".py",
   "mimetype": "text/x-python",
   "name": "python",
   "nbconvert_exporter": "python",
   "pygments_lexer": "ipython3",
   "version": "3.10.8"
  }
 },
 "nbformat": 4,
 "nbformat_minor": 5
}

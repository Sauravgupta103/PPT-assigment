{
 "cells": [
  {
   "cell_type": "markdown",
   "id": "9f1e5606",
   "metadata": {},
   "source": [
    "Print number from 1 to 5 uing a while loop."
   ]
  },
  {
   "cell_type": "code",
   "execution_count": 2,
   "id": "b67e1225",
   "metadata": {},
   "outputs": [
    {
     "name": "stdout",
     "output_type": "stream",
     "text": [
      "1\n",
      "2\n",
      "3\n",
      "4\n",
      "5\n"
     ]
    }
   ],
   "source": [
    "num = 1\n",
    "while num <=5:\n",
    "    print(num)\n",
    "    num = num + 1\n",
    "    "
   ]
  },
  {
   "cell_type": "markdown",
   "id": "fd00ac13",
   "metadata": {},
   "source": [
    "Calclate the sum of number from 1 to 10 uing a while loop."
   ]
  },
  {
   "cell_type": "code",
   "execution_count": 4,
   "id": "6f9749bf",
   "metadata": {},
   "outputs": [
    {
     "name": "stdout",
     "output_type": "stream",
     "text": [
      "65\n"
     ]
    }
   ],
   "source": [
    "sum = 0\n",
    "num=1\n",
    "while num <=10:\n",
    "    num = num+1\n",
    "    sum = sum+num\n",
    "print(sum)"
   ]
  },
  {
   "cell_type": "markdown",
   "id": "3577ea1e",
   "metadata": {},
   "source": [
    "Calculate the factorial of a number using a for loop."
   ]
  },
  {
   "cell_type": "code",
   "execution_count": 18,
   "id": "184ba193",
   "metadata": {},
   "outputs": [
    {
     "name": "stdout",
     "output_type": "stream",
     "text": [
      "enter a number:4\n",
      "24\n"
     ]
    }
   ],
   "source": [
    "fact = 1\n",
    "num= int(input(\"enter a number:\"))\n",
    "if num < 1:\n",
    "    print(\"Kya aadmi ho bhai\")\n",
    "else:\n",
    "    for i in range(1,num+1):\n",
    "        fact = fact*i\n",
    "print(fact)"
   ]
  },
  {
   "cell_type": "markdown",
   "id": "bf0cb7fe",
   "metadata": {},
   "source": [
    "Count the number of vowel in a string uing a for loop."
   ]
  },
  {
   "cell_type": "code",
   "execution_count": 37,
   "id": "3b1a2b69",
   "metadata": {},
   "outputs": [
    {
     "name": "stdout",
     "output_type": "stream",
     "text": [
      "enter strings:gupta\n",
      "2\n"
     ]
    }
   ],
   "source": [
    "vowels=[]\n",
    "for i in input(\"enter strings:\"):\n",
    "    string = i.upper()\n",
    "    if \"A\" in string or \"E\" in string or \"I\"in string or \"O\"in string or \"U\" in string:\n",
    "         vowels.append(i)\n",
    "print(len(vowels))\n",
    "\n",
    "        \n",
    "        \n",
    "        \n",
    "    "
   ]
  },
  {
   "cell_type": "markdown",
   "id": "25f290cc",
   "metadata": {},
   "source": [
    "Print a pattern using nested loop."
   ]
  },
  {
   "cell_type": "code",
   "execution_count": 42,
   "id": "9aca8438",
   "metadata": {},
   "outputs": [
    {
     "name": "stdout",
     "output_type": "stream",
     "text": [
      "*\n",
      "**\n",
      "***\n",
      "****\n",
      "*****\n"
     ]
    }
   ],
   "source": [
    "for i in range(1, 6): \n",
    "    for j in range(i):  # Number of asterisks in each row\n",
    "        print(\"*\", end=\"\")\n",
    "    print()  # Move to the next line after printing each row\n"
   ]
  },
  {
   "cell_type": "markdown",
   "id": "d9260482",
   "metadata": {},
   "source": [
    "Generate a mltiplication table using nested loop."
   ]
  },
  {
   "cell_type": "code",
   "execution_count": 51,
   "id": "c49cd477",
   "metadata": {},
   "outputs": [
    {
     "name": "stdout",
     "output_type": "stream",
     "text": [
      " 1 * 1 = 1\n",
      " 1 * 2 = 2\n",
      " 1 * 3 = 3\n",
      " 1 * 4 = 4\n",
      " 1 * 5 = 5\n",
      " 1 * 6 = 6\n",
      " 1 * 7 = 7\n",
      " 1 * 8 = 8\n",
      " 1 * 9 = 9\n",
      " 1 * 10 = 10\n",
      "\n",
      " 2 * 1 = 2\n",
      " 2 * 2 = 4\n",
      " 2 * 3 = 6\n",
      " 2 * 4 = 8\n",
      " 2 * 5 = 10\n",
      " 2 * 6 = 12\n",
      " 2 * 7 = 14\n",
      " 2 * 8 = 16\n",
      " 2 * 9 = 18\n",
      " 2 * 10 = 20\n",
      "\n",
      " 3 * 1 = 3\n",
      " 3 * 2 = 6\n",
      " 3 * 3 = 9\n",
      " 3 * 4 = 12\n",
      " 3 * 5 = 15\n",
      " 3 * 6 = 18\n",
      " 3 * 7 = 21\n",
      " 3 * 8 = 24\n",
      " 3 * 9 = 27\n",
      " 3 * 10 = 30\n",
      "\n",
      " 4 * 1 = 4\n",
      " 4 * 2 = 8\n",
      " 4 * 3 = 12\n",
      " 4 * 4 = 16\n",
      " 4 * 5 = 20\n",
      " 4 * 6 = 24\n",
      " 4 * 7 = 28\n",
      " 4 * 8 = 32\n",
      " 4 * 9 = 36\n",
      " 4 * 10 = 40\n",
      "\n"
     ]
    }
   ],
   "source": [
    "for i in  range (1,5):\n",
    "    for j in range(1,11):\n",
    "        print(f\" {i} * {j} = {i*j}\")\n",
    "    print()"
   ]
  },
  {
   "cell_type": "code",
   "execution_count": null,
   "id": "2b689467",
   "metadata": {},
   "outputs": [],
   "source": []
  }
 ],
 "metadata": {
  "kernelspec": {
   "display_name": "Python 3 (ipykernel)",
   "language": "python",
   "name": "python3"
  },
  "language_info": {
   "codemirror_mode": {
    "name": "ipython",
    "version": 3
   },
   "file_extension": ".py",
   "mimetype": "text/x-python",
   "name": "python",
   "nbconvert_exporter": "python",
   "pygments_lexer": "ipython3",
   "version": "3.11.3"
  }
 },
 "nbformat": 4,
 "nbformat_minor": 5
}

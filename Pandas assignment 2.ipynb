{
 "cells": [
  {
   "cell_type": "code",
   "execution_count": 1,
   "id": "5f3c6a6d-b5c8-47a5-9be8-0d2135ba4869",
   "metadata": {},
   "outputs": [],
   "source": [
    "import pandas as df"
   ]
  },
  {
   "cell_type": "code",
   "execution_count": 2,
   "id": "59538026-b173-49e8-ba25-9f29cafd8af8",
   "metadata": {},
   "outputs": [],
   "source": [
    "siblings= df.DataFrame({\"name\": [\"saurav\", \"tushar\", \"manali\", \"shiwani\"], \"age\":[27,20,24,20], \"fav_game\": [\"mini militia\",\"pubg\",\"temple run\",\"subway surfer\"]})"
   ]
  },
  {
   "cell_type": "code",
   "execution_count": 3,
   "id": "4fc3a3a5-400f-49d0-ad27-0228fed8bd36",
   "metadata": {},
   "outputs": [],
   "source": [
    "# Q1. List any five functions of the pandas library with execution."
   ]
  },
  {
   "cell_type": "code",
   "execution_count": 4,
   "id": "6f33c99c-d3bf-4aaa-b444-a854f28e4433",
   "metadata": {},
   "outputs": [
    {
     "data": {
      "text/html": [
       "<div>\n",
       "<style scoped>\n",
       "    .dataframe tbody tr th:only-of-type {\n",
       "        vertical-align: middle;\n",
       "    }\n",
       "\n",
       "    .dataframe tbody tr th {\n",
       "        vertical-align: top;\n",
       "    }\n",
       "\n",
       "    .dataframe thead th {\n",
       "        text-align: right;\n",
       "    }\n",
       "</style>\n",
       "<table border=\"1\" class=\"dataframe\">\n",
       "  <thead>\n",
       "    <tr style=\"text-align: right;\">\n",
       "      <th></th>\n",
       "      <th>name</th>\n",
       "      <th>age</th>\n",
       "      <th>fav_game</th>\n",
       "    </tr>\n",
       "  </thead>\n",
       "  <tbody>\n",
       "    <tr>\n",
       "      <th>0</th>\n",
       "      <td>saurav</td>\n",
       "      <td>27</td>\n",
       "      <td>mini militia</td>\n",
       "    </tr>\n",
       "    <tr>\n",
       "      <th>1</th>\n",
       "      <td>tushar</td>\n",
       "      <td>20</td>\n",
       "      <td>pubg</td>\n",
       "    </tr>\n",
       "    <tr>\n",
       "      <th>2</th>\n",
       "      <td>manali</td>\n",
       "      <td>24</td>\n",
       "      <td>temple run</td>\n",
       "    </tr>\n",
       "    <tr>\n",
       "      <th>3</th>\n",
       "      <td>shiwani</td>\n",
       "      <td>20</td>\n",
       "      <td>subway surfer</td>\n",
       "    </tr>\n",
       "  </tbody>\n",
       "</table>\n",
       "</div>"
      ],
      "text/plain": [
       "      name  age       fav_game\n",
       "0   saurav   27   mini militia\n",
       "1   tushar   20           pubg\n",
       "2   manali   24     temple run\n",
       "3  shiwani   20  subway surfer"
      ]
     },
     "execution_count": 4,
     "metadata": {},
     "output_type": "execute_result"
    }
   ],
   "source": [
    "siblings"
   ]
  },
  {
   "cell_type": "code",
   "execution_count": 5,
   "id": "b24f2308-f953-4981-9657-2fcfc907f739",
   "metadata": {},
   "outputs": [
    {
     "data": {
      "text/html": [
       "<div>\n",
       "<style scoped>\n",
       "    .dataframe tbody tr th:only-of-type {\n",
       "        vertical-align: middle;\n",
       "    }\n",
       "\n",
       "    .dataframe tbody tr th {\n",
       "        vertical-align: top;\n",
       "    }\n",
       "\n",
       "    .dataframe thead th {\n",
       "        text-align: right;\n",
       "    }\n",
       "</style>\n",
       "<table border=\"1\" class=\"dataframe\">\n",
       "  <thead>\n",
       "    <tr style=\"text-align: right;\">\n",
       "      <th></th>\n",
       "      <th>name</th>\n",
       "      <th>age</th>\n",
       "      <th>fav_game</th>\n",
       "    </tr>\n",
       "  </thead>\n",
       "  <tbody>\n",
       "    <tr>\n",
       "      <th>0</th>\n",
       "      <td>saurav</td>\n",
       "      <td>27</td>\n",
       "      <td>mini militia</td>\n",
       "    </tr>\n",
       "    <tr>\n",
       "      <th>1</th>\n",
       "      <td>tushar</td>\n",
       "      <td>20</td>\n",
       "      <td>pubg</td>\n",
       "    </tr>\n",
       "  </tbody>\n",
       "</table>\n",
       "</div>"
      ],
      "text/plain": [
       "     name  age      fav_game\n",
       "0  saurav   27  mini militia\n",
       "1  tushar   20          pubg"
      ]
     },
     "execution_count": 5,
     "metadata": {},
     "output_type": "execute_result"
    }
   ],
   "source": [
    "siblings.head(n = 2)"
   ]
  },
  {
   "cell_type": "code",
   "execution_count": 6,
   "id": "4b98dd58-15d3-4da8-8e4c-06267457c7e8",
   "metadata": {},
   "outputs": [
    {
     "data": {
      "text/html": [
       "<div>\n",
       "<style scoped>\n",
       "    .dataframe tbody tr th:only-of-type {\n",
       "        vertical-align: middle;\n",
       "    }\n",
       "\n",
       "    .dataframe tbody tr th {\n",
       "        vertical-align: top;\n",
       "    }\n",
       "\n",
       "    .dataframe thead th {\n",
       "        text-align: right;\n",
       "    }\n",
       "</style>\n",
       "<table border=\"1\" class=\"dataframe\">\n",
       "  <thead>\n",
       "    <tr style=\"text-align: right;\">\n",
       "      <th></th>\n",
       "      <th>name</th>\n",
       "      <th>age</th>\n",
       "      <th>fav_game</th>\n",
       "    </tr>\n",
       "  </thead>\n",
       "  <tbody>\n",
       "    <tr>\n",
       "      <th>2</th>\n",
       "      <td>manali</td>\n",
       "      <td>24</td>\n",
       "      <td>temple run</td>\n",
       "    </tr>\n",
       "    <tr>\n",
       "      <th>3</th>\n",
       "      <td>shiwani</td>\n",
       "      <td>20</td>\n",
       "      <td>subway surfer</td>\n",
       "    </tr>\n",
       "  </tbody>\n",
       "</table>\n",
       "</div>"
      ],
      "text/plain": [
       "      name  age       fav_game\n",
       "2   manali   24     temple run\n",
       "3  shiwani   20  subway surfer"
      ]
     },
     "execution_count": 6,
     "metadata": {},
     "output_type": "execute_result"
    }
   ],
   "source": [
    "siblings.tail(n=2)"
   ]
  },
  {
   "cell_type": "code",
   "execution_count": 7,
   "id": "b04bab51-d7f4-49e1-9415-5cbcb5b12ac5",
   "metadata": {},
   "outputs": [
    {
     "name": "stdout",
     "output_type": "stream",
     "text": [
      "<class 'pandas.core.frame.DataFrame'>\n",
      "RangeIndex: 4 entries, 0 to 3\n",
      "Data columns (total 3 columns):\n",
      " #   Column    Non-Null Count  Dtype \n",
      "---  ------    --------------  ----- \n",
      " 0   name      4 non-null      object\n",
      " 1   age       4 non-null      int64 \n",
      " 2   fav_game  4 non-null      object\n",
      "dtypes: int64(1), object(2)\n",
      "memory usage: 224.0+ bytes\n"
     ]
    }
   ],
   "source": [
    "siblings.info()"
   ]
  },
  {
   "cell_type": "code",
   "execution_count": 8,
   "id": "a3f015ee-0979-4171-9a81-69400dfafe11",
   "metadata": {},
   "outputs": [
    {
     "data": {
      "text/html": [
       "<div>\n",
       "<style scoped>\n",
       "    .dataframe tbody tr th:only-of-type {\n",
       "        vertical-align: middle;\n",
       "    }\n",
       "\n",
       "    .dataframe tbody tr th {\n",
       "        vertical-align: top;\n",
       "    }\n",
       "\n",
       "    .dataframe thead th {\n",
       "        text-align: right;\n",
       "    }\n",
       "</style>\n",
       "<table border=\"1\" class=\"dataframe\">\n",
       "  <thead>\n",
       "    <tr style=\"text-align: right;\">\n",
       "      <th></th>\n",
       "      <th>age</th>\n",
       "    </tr>\n",
       "  </thead>\n",
       "  <tbody>\n",
       "    <tr>\n",
       "      <th>count</th>\n",
       "      <td>4.00000</td>\n",
       "    </tr>\n",
       "    <tr>\n",
       "      <th>mean</th>\n",
       "      <td>22.75000</td>\n",
       "    </tr>\n",
       "    <tr>\n",
       "      <th>std</th>\n",
       "      <td>3.40343</td>\n",
       "    </tr>\n",
       "    <tr>\n",
       "      <th>min</th>\n",
       "      <td>20.00000</td>\n",
       "    </tr>\n",
       "    <tr>\n",
       "      <th>25%</th>\n",
       "      <td>20.00000</td>\n",
       "    </tr>\n",
       "    <tr>\n",
       "      <th>50%</th>\n",
       "      <td>22.00000</td>\n",
       "    </tr>\n",
       "    <tr>\n",
       "      <th>75%</th>\n",
       "      <td>24.75000</td>\n",
       "    </tr>\n",
       "    <tr>\n",
       "      <th>max</th>\n",
       "      <td>27.00000</td>\n",
       "    </tr>\n",
       "  </tbody>\n",
       "</table>\n",
       "</div>"
      ],
      "text/plain": [
       "            age\n",
       "count   4.00000\n",
       "mean   22.75000\n",
       "std     3.40343\n",
       "min    20.00000\n",
       "25%    20.00000\n",
       "50%    22.00000\n",
       "75%    24.75000\n",
       "max    27.00000"
      ]
     },
     "execution_count": 8,
     "metadata": {},
     "output_type": "execute_result"
    }
   ],
   "source": [
    "siblings.describe()"
   ]
  },
  {
   "cell_type": "code",
   "execution_count": 9,
   "id": "bc5105ae-c733-42a7-9be3-dfce0060ca74",
   "metadata": {},
   "outputs": [
    {
     "data": {
      "text/plain": [
       "(4, 3)"
      ]
     },
     "execution_count": 9,
     "metadata": {},
     "output_type": "execute_result"
    }
   ],
   "source": [
    "siblings.shape"
   ]
  },
  {
   "cell_type": "code",
   "execution_count": 10,
   "id": "871032e4-e2dd-4576-9ee0-346c34050669",
   "metadata": {},
   "outputs": [
    {
     "data": {
      "text/plain": [
       "\"Q2. Given a Pandas DataFrame df with columns 'A', 'B', and 'C', write a Python function to re-index the\\nDataFrame with a new index that starts from 1 and increments by 2 for each row.\""
      ]
     },
     "execution_count": 10,
     "metadata": {},
     "output_type": "execute_result"
    }
   ],
   "source": [
    "\"\"\"Q2. Given a Pandas DataFrame df with columns 'A', 'B', and 'C', write a Python function to re-index the\n",
    "DataFrame with a new index that starts from 1 and increments by 2 for each row.\"\"\""
   ]
  },
  {
   "cell_type": "code",
   "execution_count": 11,
   "id": "76759a28-a80a-4763-919c-fb2005f71dd3",
   "metadata": {},
   "outputs": [
    {
     "data": {
      "text/html": [
       "<div>\n",
       "<style scoped>\n",
       "    .dataframe tbody tr th:only-of-type {\n",
       "        vertical-align: middle;\n",
       "    }\n",
       "\n",
       "    .dataframe tbody tr th {\n",
       "        vertical-align: top;\n",
       "    }\n",
       "\n",
       "    .dataframe thead th {\n",
       "        text-align: right;\n",
       "    }\n",
       "</style>\n",
       "<table border=\"1\" class=\"dataframe\">\n",
       "  <thead>\n",
       "    <tr style=\"text-align: right;\">\n",
       "      <th></th>\n",
       "      <th>name</th>\n",
       "      <th>age</th>\n",
       "      <th>fav_game</th>\n",
       "    </tr>\n",
       "  </thead>\n",
       "  <tbody>\n",
       "    <tr>\n",
       "      <th>0</th>\n",
       "      <td>saurav</td>\n",
       "      <td>27</td>\n",
       "      <td>mini militia</td>\n",
       "    </tr>\n",
       "    <tr>\n",
       "      <th>1</th>\n",
       "      <td>tushar</td>\n",
       "      <td>20</td>\n",
       "      <td>pubg</td>\n",
       "    </tr>\n",
       "    <tr>\n",
       "      <th>2</th>\n",
       "      <td>manali</td>\n",
       "      <td>24</td>\n",
       "      <td>temple run</td>\n",
       "    </tr>\n",
       "    <tr>\n",
       "      <th>3</th>\n",
       "      <td>shiwani</td>\n",
       "      <td>20</td>\n",
       "      <td>subway surfer</td>\n",
       "    </tr>\n",
       "  </tbody>\n",
       "</table>\n",
       "</div>"
      ],
      "text/plain": [
       "      name  age       fav_game\n",
       "0   saurav   27   mini militia\n",
       "1   tushar   20           pubg\n",
       "2   manali   24     temple run\n",
       "3  shiwani   20  subway surfer"
      ]
     },
     "execution_count": 11,
     "metadata": {},
     "output_type": "execute_result"
    }
   ],
   "source": [
    "siblings"
   ]
  },
  {
   "cell_type": "code",
   "execution_count": 12,
   "id": "1da764ab-4f77-4647-a14a-b9753e86e5c7",
   "metadata": {},
   "outputs": [
    {
     "data": {
      "text/html": [
       "<div>\n",
       "<style scoped>\n",
       "    .dataframe tbody tr th:only-of-type {\n",
       "        vertical-align: middle;\n",
       "    }\n",
       "\n",
       "    .dataframe tbody tr th {\n",
       "        vertical-align: top;\n",
       "    }\n",
       "\n",
       "    .dataframe thead th {\n",
       "        text-align: right;\n",
       "    }\n",
       "</style>\n",
       "<table border=\"1\" class=\"dataframe\">\n",
       "  <thead>\n",
       "    <tr style=\"text-align: right;\">\n",
       "      <th></th>\n",
       "      <th>name</th>\n",
       "      <th>age</th>\n",
       "      <th>fav_game</th>\n",
       "    </tr>\n",
       "  </thead>\n",
       "  <tbody>\n",
       "    <tr>\n",
       "      <th>1</th>\n",
       "      <td>tushar</td>\n",
       "      <td>20.0</td>\n",
       "      <td>pubg</td>\n",
       "    </tr>\n",
       "    <tr>\n",
       "      <th>3</th>\n",
       "      <td>shiwani</td>\n",
       "      <td>20.0</td>\n",
       "      <td>subway surfer</td>\n",
       "    </tr>\n",
       "    <tr>\n",
       "      <th>5</th>\n",
       "      <td>NaN</td>\n",
       "      <td>NaN</td>\n",
       "      <td>NaN</td>\n",
       "    </tr>\n",
       "    <tr>\n",
       "      <th>7</th>\n",
       "      <td>NaN</td>\n",
       "      <td>NaN</td>\n",
       "      <td>NaN</td>\n",
       "    </tr>\n",
       "  </tbody>\n",
       "</table>\n",
       "</div>"
      ],
      "text/plain": [
       "      name   age       fav_game\n",
       "1   tushar  20.0           pubg\n",
       "3  shiwani  20.0  subway surfer\n",
       "5      NaN   NaN            NaN\n",
       "7      NaN   NaN            NaN"
      ]
     },
     "execution_count": 12,
     "metadata": {},
     "output_type": "execute_result"
    }
   ],
   "source": [
    "siblings.reindex(index=[1, 3, 5, 7])\n"
   ]
  },
  {
   "cell_type": "code",
   "execution_count": 13,
   "id": "771f2635-f0a4-4bbd-b870-4b19aa7cbf43",
   "metadata": {},
   "outputs": [
    {
     "data": {
      "text/plain": [
       "\" Q3. You have a Pandas DataFrame df with a column named 'Values'. Write a Python function that\\niterates over the DataFrame and calculates the sum of the first three values in the 'Values' column. The\\nfunction should print the sum to the console.\""
      ]
     },
     "execution_count": 13,
     "metadata": {},
     "output_type": "execute_result"
    }
   ],
   "source": [
    "\"\"\" Q3. You have a Pandas DataFrame df with a column named 'Values'. Write a Python function that\n",
    "iterates over the DataFrame and calculates the sum of the first three values in the 'Values' column. The\n",
    "function should print the sum to the console.\"\"\""
   ]
  },
  {
   "cell_type": "code",
   "execution_count": 14,
   "id": "0fcdaee7-fdf1-4eda-848c-efd9c8018a65",
   "metadata": {},
   "outputs": [
    {
     "name": "stdout",
     "output_type": "stream",
     "text": [
      "60\n"
     ]
    }
   ],
   "source": [
    "import pandas as pd\n",
    "\n",
    "def sum_three(dataframe):\n",
    "    return dataframe[\"values\"].iloc[:3].sum()\n",
    "\n",
    "data = {\"values\": [10, 20, 30, 40, 50]}\n",
    "values = pd.DataFrame(data)  \n",
    "\n",
    "result = sum_three(values)\n",
    "print(result)\n"
   ]
  },
  {
   "cell_type": "code",
   "execution_count": 15,
   "id": "ef92f02f-27d6-4448-af08-9c8e9367d00e",
   "metadata": {},
   "outputs": [
    {
     "data": {
      "text/plain": [
       "\" Q4. Given a Pandas DataFrame df with a column 'Text', write a Python function to create a new column\\n'Word_Count' that contains the number of words in each row of the 'Text' column. \""
      ]
     },
     "execution_count": 15,
     "metadata": {},
     "output_type": "execute_result"
    }
   ],
   "source": [
    "\"\"\" Q4. Given a Pandas DataFrame df with a column 'Text', write a Python function to create a new column\n",
    "'Word_Count' that contains the number of words in each row of the 'Text' column. \"\"\""
   ]
  },
  {
   "cell_type": "code",
   "execution_count": 16,
   "id": "1623f45a-f03f-4c59-8e71-36e346ec5378",
   "metadata": {},
   "outputs": [
    {
     "data": {
      "text/plain": [
       "0     saurav\n",
       "1     tushar\n",
       "2     manali\n",
       "3    shiwani\n",
       "Name: name, dtype: object"
      ]
     },
     "execution_count": 16,
     "metadata": {},
     "output_type": "execute_result"
    }
   ],
   "source": [
    "siblings[\"name\"]"
   ]
  },
  {
   "cell_type": "code",
   "execution_count": 17,
   "id": "d2d9994c-d488-481f-8d95-1b1130f0fbd3",
   "metadata": {},
   "outputs": [],
   "source": [
    "\n",
    "def count(x):\n",
    "    return len(x)"
   ]
  },
  {
   "cell_type": "code",
   "execution_count": 18,
   "id": "041c8d07-a98c-4af7-9be5-45d0ae84f352",
   "metadata": {},
   "outputs": [],
   "source": [
    "siblings['word_count_name'] = siblings[\"name\"].apply (count)"
   ]
  },
  {
   "cell_type": "code",
   "execution_count": 19,
   "id": "5a7bfb05-5b42-4088-9b92-9baac436b281",
   "metadata": {},
   "outputs": [
    {
     "data": {
      "text/html": [
       "<div>\n",
       "<style scoped>\n",
       "    .dataframe tbody tr th:only-of-type {\n",
       "        vertical-align: middle;\n",
       "    }\n",
       "\n",
       "    .dataframe tbody tr th {\n",
       "        vertical-align: top;\n",
       "    }\n",
       "\n",
       "    .dataframe thead th {\n",
       "        text-align: right;\n",
       "    }\n",
       "</style>\n",
       "<table border=\"1\" class=\"dataframe\">\n",
       "  <thead>\n",
       "    <tr style=\"text-align: right;\">\n",
       "      <th></th>\n",
       "      <th>name</th>\n",
       "      <th>age</th>\n",
       "      <th>fav_game</th>\n",
       "      <th>word_count_name</th>\n",
       "    </tr>\n",
       "  </thead>\n",
       "  <tbody>\n",
       "    <tr>\n",
       "      <th>0</th>\n",
       "      <td>saurav</td>\n",
       "      <td>27</td>\n",
       "      <td>mini militia</td>\n",
       "      <td>6</td>\n",
       "    </tr>\n",
       "    <tr>\n",
       "      <th>1</th>\n",
       "      <td>tushar</td>\n",
       "      <td>20</td>\n",
       "      <td>pubg</td>\n",
       "      <td>6</td>\n",
       "    </tr>\n",
       "    <tr>\n",
       "      <th>2</th>\n",
       "      <td>manali</td>\n",
       "      <td>24</td>\n",
       "      <td>temple run</td>\n",
       "      <td>6</td>\n",
       "    </tr>\n",
       "    <tr>\n",
       "      <th>3</th>\n",
       "      <td>shiwani</td>\n",
       "      <td>20</td>\n",
       "      <td>subway surfer</td>\n",
       "      <td>7</td>\n",
       "    </tr>\n",
       "  </tbody>\n",
       "</table>\n",
       "</div>"
      ],
      "text/plain": [
       "      name  age       fav_game  word_count_name\n",
       "0   saurav   27   mini militia                6\n",
       "1   tushar   20           pubg                6\n",
       "2   manali   24     temple run                6\n",
       "3  shiwani   20  subway surfer                7"
      ]
     },
     "execution_count": 19,
     "metadata": {},
     "output_type": "execute_result"
    }
   ],
   "source": [
    "siblings"
   ]
  },
  {
   "cell_type": "code",
   "execution_count": 20,
   "id": "081fffdf-07b7-4d13-8009-7301346e17f5",
   "metadata": {},
   "outputs": [],
   "source": [
    "# Q5. How are DataFrame.size() and DataFrame.shape() different?"
   ]
  },
  {
   "cell_type": "code",
   "execution_count": 21,
   "id": "01ea7ce2-ed8c-48bc-bee5-d6647d9076cd",
   "metadata": {},
   "outputs": [
    {
     "data": {
      "text/plain": [
       "'DataFRAME.size()--> Returns the multiplication of ROWS and COLUMNS.'"
      ]
     },
     "execution_count": 21,
     "metadata": {},
     "output_type": "execute_result"
    }
   ],
   "source": [
    "\"\"\"DataFRAME.size()--> Returns the multiplication of ROWS and COLUMNS.\"\"\""
   ]
  },
  {
   "cell_type": "code",
   "execution_count": 22,
   "id": "bbcebea5-614d-4d9e-adf4-aec16da4d1de",
   "metadata": {},
   "outputs": [
    {
     "data": {
      "text/plain": [
       "16"
      ]
     },
     "execution_count": 22,
     "metadata": {},
     "output_type": "execute_result"
    }
   ],
   "source": [
    "siblings.size"
   ]
  },
  {
   "cell_type": "code",
   "execution_count": 23,
   "id": "a6a6441e-5f50-450f-8344-24b13e8f19a4",
   "metadata": {},
   "outputs": [
    {
     "data": {
      "text/plain": [
       "'DataFrame.shape--->  This attribute returns a tuple representing the dimensions of the DataFrame'"
      ]
     },
     "execution_count": 23,
     "metadata": {},
     "output_type": "execute_result"
    }
   ],
   "source": [
    "\"\"\"DataFrame.shape--->  This attribute returns a tuple representing the dimensions of the DataFrame\"\"\""
   ]
  },
  {
   "cell_type": "code",
   "execution_count": 24,
   "id": "bca4a656-e5a8-4888-8345-a59f933d806a",
   "metadata": {},
   "outputs": [
    {
     "data": {
      "text/plain": [
       "(4, 4)"
      ]
     },
     "execution_count": 24,
     "metadata": {},
     "output_type": "execute_result"
    }
   ],
   "source": [
    "siblings.shape"
   ]
  },
  {
   "cell_type": "code",
   "execution_count": 25,
   "id": "2cbd4d00-4190-4da2-9a5c-9abb609da554",
   "metadata": {},
   "outputs": [],
   "source": [
    "# Q6. Which function of pandas do we use to read an excel file?"
   ]
  },
  {
   "cell_type": "code",
   "execution_count": 26,
   "id": "e9344ab1-55a9-44bd-98e2-ced57f14ba20",
   "metadata": {},
   "outputs": [
    {
     "data": {
      "text/plain": [
       "'pd.read_excel(\"file_name\")'"
      ]
     },
     "execution_count": 26,
     "metadata": {},
     "output_type": "execute_result"
    }
   ],
   "source": [
    "\"\"\"pd.read_excel(\"file_name\")\"\"\""
   ]
  },
  {
   "cell_type": "code",
   "execution_count": 27,
   "id": "b3647e4d-6d0a-402c-ae53-7c5a63503903",
   "metadata": {},
   "outputs": [
    {
     "data": {
      "text/plain": [
       "\"Q7. You have a Pandas DataFrame df that contains a column named 'Email' that contains email\\naddresses in the format 'username@domain.com'. Write a Python function that creates a new column\\n'Username' in df that contains only the username part of each email address.\\nThe username is the part of the email address that appears before the '@' symbol. For example, if the\\nemail address is 'john.doe@example.com', the 'Username' column should contain 'john.doe'. Your\\nfunction should extract the username from each email address and store it in the new 'Username'\\ncolumn.\""
      ]
     },
     "execution_count": 27,
     "metadata": {},
     "output_type": "execute_result"
    }
   ],
   "source": [
    "\"\"\"Q7. You have a Pandas DataFrame df that contains a column named 'Email' that contains email\n",
    "addresses in the format 'username@domain.com'. Write a Python function that creates a new column\n",
    "'Username' in df that contains only the username part of each email address.\n",
    "The username is the part of the email address that appears before the '@' symbol. For example, if the\n",
    "email address is 'john.doe@example.com', the 'Username' column should contain 'john.doe'. Your\n",
    "function should extract the username from each email address and store it in the new 'Username'\n",
    "column.\"\"\""
   ]
  },
  {
   "cell_type": "code",
   "execution_count": 28,
   "id": "ef1c2e3c-a495-4db9-83c1-9535a12c9b11",
   "metadata": {},
   "outputs": [],
   "source": [
    "siblings[\"Gmail\"]= [\"saurav27@gmail.com\",\"tushar20@gmail.com\",\"manali24@gmail.com\",\"shivani11@gmail.com\"]"
   ]
  },
  {
   "cell_type": "code",
   "execution_count": 29,
   "id": "d0930641-d5f1-4ae2-85bb-c5fcea292564",
   "metadata": {},
   "outputs": [
    {
     "data": {
      "text/html": [
       "<div>\n",
       "<style scoped>\n",
       "    .dataframe tbody tr th:only-of-type {\n",
       "        vertical-align: middle;\n",
       "    }\n",
       "\n",
       "    .dataframe tbody tr th {\n",
       "        vertical-align: top;\n",
       "    }\n",
       "\n",
       "    .dataframe thead th {\n",
       "        text-align: right;\n",
       "    }\n",
       "</style>\n",
       "<table border=\"1\" class=\"dataframe\">\n",
       "  <thead>\n",
       "    <tr style=\"text-align: right;\">\n",
       "      <th></th>\n",
       "      <th>name</th>\n",
       "      <th>age</th>\n",
       "      <th>fav_game</th>\n",
       "      <th>word_count_name</th>\n",
       "      <th>Gmail</th>\n",
       "    </tr>\n",
       "  </thead>\n",
       "  <tbody>\n",
       "    <tr>\n",
       "      <th>0</th>\n",
       "      <td>saurav</td>\n",
       "      <td>27</td>\n",
       "      <td>mini militia</td>\n",
       "      <td>6</td>\n",
       "      <td>saurav27@gmail.com</td>\n",
       "    </tr>\n",
       "    <tr>\n",
       "      <th>1</th>\n",
       "      <td>tushar</td>\n",
       "      <td>20</td>\n",
       "      <td>pubg</td>\n",
       "      <td>6</td>\n",
       "      <td>tushar20@gmail.com</td>\n",
       "    </tr>\n",
       "    <tr>\n",
       "      <th>2</th>\n",
       "      <td>manali</td>\n",
       "      <td>24</td>\n",
       "      <td>temple run</td>\n",
       "      <td>6</td>\n",
       "      <td>manali24@gmail.com</td>\n",
       "    </tr>\n",
       "    <tr>\n",
       "      <th>3</th>\n",
       "      <td>shiwani</td>\n",
       "      <td>20</td>\n",
       "      <td>subway surfer</td>\n",
       "      <td>7</td>\n",
       "      <td>shivani11@gmail.com</td>\n",
       "    </tr>\n",
       "  </tbody>\n",
       "</table>\n",
       "</div>"
      ],
      "text/plain": [
       "      name  age       fav_game  word_count_name                Gmail\n",
       "0   saurav   27   mini militia                6   saurav27@gmail.com\n",
       "1   tushar   20           pubg                6   tushar20@gmail.com\n",
       "2   manali   24     temple run                6   manali24@gmail.com\n",
       "3  shiwani   20  subway surfer                7  shivani11@gmail.com"
      ]
     },
     "execution_count": 29,
     "metadata": {},
     "output_type": "execute_result"
    }
   ],
   "source": [
    "siblings"
   ]
  },
  {
   "cell_type": "code",
   "execution_count": 30,
   "id": "8c2eb4d9-7085-4209-8d56-60cf11215517",
   "metadata": {},
   "outputs": [
    {
     "data": {
      "text/plain": [
       "0     saurav27\n",
       "1     tushar20\n",
       "2     manali24\n",
       "3    shivani11\n",
       "Name: Gmail, dtype: object"
      ]
     },
     "execution_count": 30,
     "metadata": {},
     "output_type": "execute_result"
    }
   ],
   "source": [
    "siblings[\"Gmail\"].str.split('@').str[0]"
   ]
  },
  {
   "cell_type": "code",
   "execution_count": 31,
   "id": "5ee9f72f-0464-4874-8e49-708097ce7c6b",
   "metadata": {},
   "outputs": [
    {
     "data": {
      "text/plain": [
       "\"Q8. You have a Pandas DataFrame df with columns 'A', 'B', and 'C'. Write a Python function that selects\\nall rows where the value in column 'A' is greater than 5 and the value in column 'B' is less than 10. The\\nfunction should return a new DataFrame that contains only the selected rows.\\nFor example, if df contains the following values:\\nA B C\\n0 3 5 1\\n1 8 2 7\\n2 6 9 4\\n3 2 3 5\\n4 9 1 2  \\nYour function should select the following rows: A B C\\n1 8 2 7\\n4 9 1 2\\nThe function should return a new DataFrame that contains only the selected rows.\""
      ]
     },
     "execution_count": 31,
     "metadata": {},
     "output_type": "execute_result"
    }
   ],
   "source": [
    "\"\"\"Q8. You have a Pandas DataFrame df with columns 'A', 'B', and 'C'. Write a Python function that selects\n",
    "all rows where the value in column 'A' is greater than 5 and the value in column 'B' is less than 10. The\n",
    "function should return a new DataFrame that contains only the selected rows.\n",
    "For example, if df contains the following values:\n",
    "A B C\n",
    "0 3 5 1\n",
    "1 8 2 7\n",
    "2 6 9 4\n",
    "3 2 3 5\n",
    "4 9 1 2  \n",
    "Your function should select the following rows: A B C\n",
    "1 8 2 7\n",
    "4 9 1 2\n",
    "The function should return a new DataFrame that contains only the selected rows.\"\"\""
   ]
  },
  {
   "cell_type": "code",
   "execution_count": 32,
   "id": "decc7a40-475b-4a13-9649-2baf0d6ba2b7",
   "metadata": {},
   "outputs": [],
   "source": [
    " DATA= df.DataFrame({\"A\":[3,8,6,2,9],'B': [5, 2, 9, 3, 1],\n",
    "        'C': [1, 7, 4, 5, 2]})"
   ]
  },
  {
   "cell_type": "code",
   "execution_count": 33,
   "id": "2382a72c-51fe-42c5-b611-86073553077d",
   "metadata": {},
   "outputs": [
    {
     "data": {
      "text/html": [
       "<div>\n",
       "<style scoped>\n",
       "    .dataframe tbody tr th:only-of-type {\n",
       "        vertical-align: middle;\n",
       "    }\n",
       "\n",
       "    .dataframe tbody tr th {\n",
       "        vertical-align: top;\n",
       "    }\n",
       "\n",
       "    .dataframe thead th {\n",
       "        text-align: right;\n",
       "    }\n",
       "</style>\n",
       "<table border=\"1\" class=\"dataframe\">\n",
       "  <thead>\n",
       "    <tr style=\"text-align: right;\">\n",
       "      <th></th>\n",
       "      <th>A</th>\n",
       "      <th>B</th>\n",
       "      <th>C</th>\n",
       "    </tr>\n",
       "  </thead>\n",
       "  <tbody>\n",
       "    <tr>\n",
       "      <th>0</th>\n",
       "      <td>3</td>\n",
       "      <td>5</td>\n",
       "      <td>1</td>\n",
       "    </tr>\n",
       "    <tr>\n",
       "      <th>1</th>\n",
       "      <td>8</td>\n",
       "      <td>2</td>\n",
       "      <td>7</td>\n",
       "    </tr>\n",
       "    <tr>\n",
       "      <th>2</th>\n",
       "      <td>6</td>\n",
       "      <td>9</td>\n",
       "      <td>4</td>\n",
       "    </tr>\n",
       "    <tr>\n",
       "      <th>3</th>\n",
       "      <td>2</td>\n",
       "      <td>3</td>\n",
       "      <td>5</td>\n",
       "    </tr>\n",
       "    <tr>\n",
       "      <th>4</th>\n",
       "      <td>9</td>\n",
       "      <td>1</td>\n",
       "      <td>2</td>\n",
       "    </tr>\n",
       "  </tbody>\n",
       "</table>\n",
       "</div>"
      ],
      "text/plain": [
       "   A  B  C\n",
       "0  3  5  1\n",
       "1  8  2  7\n",
       "2  6  9  4\n",
       "3  2  3  5\n",
       "4  9  1  2"
      ]
     },
     "execution_count": 33,
     "metadata": {},
     "output_type": "execute_result"
    }
   ],
   "source": [
    " DATA"
   ]
  },
  {
   "cell_type": "code",
   "execution_count": 34,
   "id": "5cbd909a-0f19-489c-b3de-9e22310b602c",
   "metadata": {},
   "outputs": [],
   "source": [
    "s = DATA.iloc[[1, 4],]\n"
   ]
  },
  {
   "cell_type": "code",
   "execution_count": 35,
   "id": "39f87017-2fb2-490d-8024-21c82b701271",
   "metadata": {},
   "outputs": [
    {
     "data": {
      "text/html": [
       "<div>\n",
       "<style scoped>\n",
       "    .dataframe tbody tr th:only-of-type {\n",
       "        vertical-align: middle;\n",
       "    }\n",
       "\n",
       "    .dataframe tbody tr th {\n",
       "        vertical-align: top;\n",
       "    }\n",
       "\n",
       "    .dataframe thead th {\n",
       "        text-align: right;\n",
       "    }\n",
       "</style>\n",
       "<table border=\"1\" class=\"dataframe\">\n",
       "  <thead>\n",
       "    <tr style=\"text-align: right;\">\n",
       "      <th></th>\n",
       "      <th>A</th>\n",
       "      <th>B</th>\n",
       "      <th>C</th>\n",
       "    </tr>\n",
       "  </thead>\n",
       "  <tbody>\n",
       "    <tr>\n",
       "      <th>1</th>\n",
       "      <td>8</td>\n",
       "      <td>2</td>\n",
       "      <td>7</td>\n",
       "    </tr>\n",
       "    <tr>\n",
       "      <th>4</th>\n",
       "      <td>9</td>\n",
       "      <td>1</td>\n",
       "      <td>2</td>\n",
       "    </tr>\n",
       "  </tbody>\n",
       "</table>\n",
       "</div>"
      ],
      "text/plain": [
       "   A  B  C\n",
       "1  8  2  7\n",
       "4  9  1  2"
      ]
     },
     "execution_count": 35,
     "metadata": {},
     "output_type": "execute_result"
    }
   ],
   "source": [
    "s"
   ]
  },
  {
   "cell_type": "code",
   "execution_count": 36,
   "id": "9f67d5a2-0b0e-4683-84d5-e66b0dcc1349",
   "metadata": {},
   "outputs": [
    {
     "data": {
      "text/plain": [
       "\"Q9. Given a Pandas DataFrame df with a column 'Values', write a Python function to calculate the mean,\\nmedian, and standard deviation of the values in the 'Values' column.\\n\""
      ]
     },
     "execution_count": 36,
     "metadata": {},
     "output_type": "execute_result"
    }
   ],
   "source": [
    "\"\"\"Q9. Given a Pandas DataFrame df with a column 'Values', write a Python function to calculate the mean,\n",
    "median, and standard deviation of the values in the 'Values' column.\n",
    "\"\"\""
   ]
  },
  {
   "cell_type": "code",
   "execution_count": 37,
   "id": "bc3a16c0-5991-4273-ac03-18a2697af0ca",
   "metadata": {},
   "outputs": [
    {
     "data": {
      "text/html": [
       "<div>\n",
       "<style scoped>\n",
       "    .dataframe tbody tr th:only-of-type {\n",
       "        vertical-align: middle;\n",
       "    }\n",
       "\n",
       "    .dataframe tbody tr th {\n",
       "        vertical-align: top;\n",
       "    }\n",
       "\n",
       "    .dataframe thead th {\n",
       "        text-align: right;\n",
       "    }\n",
       "</style>\n",
       "<table border=\"1\" class=\"dataframe\">\n",
       "  <thead>\n",
       "    <tr style=\"text-align: right;\">\n",
       "      <th></th>\n",
       "      <th>name</th>\n",
       "      <th>age</th>\n",
       "      <th>fav_game</th>\n",
       "      <th>word_count_name</th>\n",
       "      <th>Gmail</th>\n",
       "    </tr>\n",
       "  </thead>\n",
       "  <tbody>\n",
       "    <tr>\n",
       "      <th>0</th>\n",
       "      <td>saurav</td>\n",
       "      <td>27</td>\n",
       "      <td>mini militia</td>\n",
       "      <td>6</td>\n",
       "      <td>saurav27@gmail.com</td>\n",
       "    </tr>\n",
       "    <tr>\n",
       "      <th>1</th>\n",
       "      <td>tushar</td>\n",
       "      <td>20</td>\n",
       "      <td>pubg</td>\n",
       "      <td>6</td>\n",
       "      <td>tushar20@gmail.com</td>\n",
       "    </tr>\n",
       "    <tr>\n",
       "      <th>2</th>\n",
       "      <td>manali</td>\n",
       "      <td>24</td>\n",
       "      <td>temple run</td>\n",
       "      <td>6</td>\n",
       "      <td>manali24@gmail.com</td>\n",
       "    </tr>\n",
       "    <tr>\n",
       "      <th>3</th>\n",
       "      <td>shiwani</td>\n",
       "      <td>20</td>\n",
       "      <td>subway surfer</td>\n",
       "      <td>7</td>\n",
       "      <td>shivani11@gmail.com</td>\n",
       "    </tr>\n",
       "  </tbody>\n",
       "</table>\n",
       "</div>"
      ],
      "text/plain": [
       "      name  age       fav_game  word_count_name                Gmail\n",
       "0   saurav   27   mini militia                6   saurav27@gmail.com\n",
       "1   tushar   20           pubg                6   tushar20@gmail.com\n",
       "2   manali   24     temple run                6   manali24@gmail.com\n",
       "3  shiwani   20  subway surfer                7  shivani11@gmail.com"
      ]
     },
     "execution_count": 37,
     "metadata": {},
     "output_type": "execute_result"
    }
   ],
   "source": [
    "# ans\n",
    "siblings\n",
    "\n"
   ]
  },
  {
   "cell_type": "code",
   "execution_count": 38,
   "id": "9c869141-feb9-4bac-a0e3-010481f286e5",
   "metadata": {},
   "outputs": [
    {
     "data": {
      "text/plain": [
       "22.75"
      ]
     },
     "execution_count": 38,
     "metadata": {},
     "output_type": "execute_result"
    }
   ],
   "source": [
    "siblings[\"age\"].mean()"
   ]
  },
  {
   "cell_type": "code",
   "execution_count": 39,
   "id": "58a723b7-1d97-4a15-bf89-41c37f5c8f7a",
   "metadata": {},
   "outputs": [
    {
     "data": {
      "text/plain": [
       "22.0"
      ]
     },
     "execution_count": 39,
     "metadata": {},
     "output_type": "execute_result"
    }
   ],
   "source": [
    "siblings[\"age\"].median()"
   ]
  },
  {
   "cell_type": "code",
   "execution_count": 40,
   "id": "c114889f-711b-45f6-b224-67965208f20c",
   "metadata": {},
   "outputs": [
    {
     "data": {
      "text/plain": [
       "3.4034296427770228"
      ]
     },
     "execution_count": 40,
     "metadata": {},
     "output_type": "execute_result"
    }
   ],
   "source": [
    "siblings[\"age\"].std()"
   ]
  },
  {
   "cell_type": "code",
   "execution_count": 41,
   "id": "f3ba1320-5982-4366-96a8-246f0527cc1a",
   "metadata": {},
   "outputs": [
    {
     "data": {
      "text/plain": [
       "\"Q10. Given a Pandas DataFrame df with a column 'Sales' and a column 'Date', write a Python function to\\ncreate a new column 'MovingAverage' that contains the moving average of the sales for the past 7 days\\nfor each row in the DataFrame. The moving average should be calculated using a window of size 7 and\\nshould include the current day.\""
      ]
     },
     "execution_count": 41,
     "metadata": {},
     "output_type": "execute_result"
    }
   ],
   "source": [
    "\"\"\"Q10. Given a Pandas DataFrame df with a column 'Sales' and a column 'Date', write a Python function to\n",
    "create a new column 'MovingAverage' that contains the moving average of the sales for the past 7 days\n",
    "for each row in the DataFrame. The moving average should be calculated using a window of size 7 and\n",
    "should include the current day.\"\"\""
   ]
  },
  {
   "cell_type": "code",
   "execution_count": 7,
   "id": "b9718ebb-4be7-42cd-b2aa-1c69e6f77037",
   "metadata": {},
   "outputs": [],
   "source": [
    "import pandas as pd\n",
    "def calculate_moving_average (df):\n",
    "    df.sort_values(by = \"Date\", inplace = True)\n",
    "    df[\"MovingAverage\"]= df[\"Sales\"].rolling(window = 7, min_periods = 1).mean()\n",
    "    return df \n",
    "data = {'Date': ['2023-04-01', '2023-04-02', '2023-04-03', '2023-04-04', '2023-04-05',\n",
    "                 '2023-04-06', '2023-04-07', '2023-04-08', '2023-04-09', '2023-04-10'],\n",
    "        'Sales': [100, 150, 200, 175, 250, 300, 275, 350, 400, 375]}\n",
    "df= pd.DataFrame(data)\n",
    "df[\"date\"]= pd.to_datetime(df[\"Date\"])\n",
    "\n",
    "\n",
    "\n",
    "    "
   ]
  },
  {
   "cell_type": "code",
   "execution_count": 8,
   "id": "d1a752b9-f497-4c74-a443-f90d53504010",
   "metadata": {},
   "outputs": [
    {
     "data": {
      "text/html": [
       "<div>\n",
       "<style scoped>\n",
       "    .dataframe tbody tr th:only-of-type {\n",
       "        vertical-align: middle;\n",
       "    }\n",
       "\n",
       "    .dataframe tbody tr th {\n",
       "        vertical-align: top;\n",
       "    }\n",
       "\n",
       "    .dataframe thead th {\n",
       "        text-align: right;\n",
       "    }\n",
       "</style>\n",
       "<table border=\"1\" class=\"dataframe\">\n",
       "  <thead>\n",
       "    <tr style=\"text-align: right;\">\n",
       "      <th></th>\n",
       "      <th>Date</th>\n",
       "      <th>Sales</th>\n",
       "      <th>date</th>\n",
       "      <th>MovingAverage</th>\n",
       "    </tr>\n",
       "  </thead>\n",
       "  <tbody>\n",
       "    <tr>\n",
       "      <th>0</th>\n",
       "      <td>2023-04-01</td>\n",
       "      <td>100</td>\n",
       "      <td>2023-04-01</td>\n",
       "      <td>100.000000</td>\n",
       "    </tr>\n",
       "    <tr>\n",
       "      <th>1</th>\n",
       "      <td>2023-04-02</td>\n",
       "      <td>150</td>\n",
       "      <td>2023-04-02</td>\n",
       "      <td>125.000000</td>\n",
       "    </tr>\n",
       "    <tr>\n",
       "      <th>2</th>\n",
       "      <td>2023-04-03</td>\n",
       "      <td>200</td>\n",
       "      <td>2023-04-03</td>\n",
       "      <td>150.000000</td>\n",
       "    </tr>\n",
       "    <tr>\n",
       "      <th>3</th>\n",
       "      <td>2023-04-04</td>\n",
       "      <td>175</td>\n",
       "      <td>2023-04-04</td>\n",
       "      <td>156.250000</td>\n",
       "    </tr>\n",
       "    <tr>\n",
       "      <th>4</th>\n",
       "      <td>2023-04-05</td>\n",
       "      <td>250</td>\n",
       "      <td>2023-04-05</td>\n",
       "      <td>175.000000</td>\n",
       "    </tr>\n",
       "    <tr>\n",
       "      <th>5</th>\n",
       "      <td>2023-04-06</td>\n",
       "      <td>300</td>\n",
       "      <td>2023-04-06</td>\n",
       "      <td>195.833333</td>\n",
       "    </tr>\n",
       "    <tr>\n",
       "      <th>6</th>\n",
       "      <td>2023-04-07</td>\n",
       "      <td>275</td>\n",
       "      <td>2023-04-07</td>\n",
       "      <td>207.142857</td>\n",
       "    </tr>\n",
       "    <tr>\n",
       "      <th>7</th>\n",
       "      <td>2023-04-08</td>\n",
       "      <td>350</td>\n",
       "      <td>2023-04-08</td>\n",
       "      <td>242.857143</td>\n",
       "    </tr>\n",
       "    <tr>\n",
       "      <th>8</th>\n",
       "      <td>2023-04-09</td>\n",
       "      <td>400</td>\n",
       "      <td>2023-04-09</td>\n",
       "      <td>278.571429</td>\n",
       "    </tr>\n",
       "    <tr>\n",
       "      <th>9</th>\n",
       "      <td>2023-04-10</td>\n",
       "      <td>375</td>\n",
       "      <td>2023-04-10</td>\n",
       "      <td>303.571429</td>\n",
       "    </tr>\n",
       "  </tbody>\n",
       "</table>\n",
       "</div>"
      ],
      "text/plain": [
       "         Date  Sales       date  MovingAverage\n",
       "0  2023-04-01    100 2023-04-01     100.000000\n",
       "1  2023-04-02    150 2023-04-02     125.000000\n",
       "2  2023-04-03    200 2023-04-03     150.000000\n",
       "3  2023-04-04    175 2023-04-04     156.250000\n",
       "4  2023-04-05    250 2023-04-05     175.000000\n",
       "5  2023-04-06    300 2023-04-06     195.833333\n",
       "6  2023-04-07    275 2023-04-07     207.142857\n",
       "7  2023-04-08    350 2023-04-08     242.857143\n",
       "8  2023-04-09    400 2023-04-09     278.571429\n",
       "9  2023-04-10    375 2023-04-10     303.571429"
      ]
     },
     "execution_count": 8,
     "metadata": {},
     "output_type": "execute_result"
    }
   ],
   "source": [
    "calculate_moving_average (df)"
   ]
  },
  {
   "cell_type": "code",
   "execution_count": 9,
   "id": "6402c7e4-e8e9-48e6-aaa8-4c47e7510fb6",
   "metadata": {},
   "outputs": [
    {
     "data": {
      "text/plain": [
       "\"Q11. You have a Pandas DataFrame df with a column 'Date'. Write a Python function that creates a new\\ncolumn 'Weekday' in the DataFrame. The 'Weekday' column should contain the weekday name (e.g.\\nMonday, Tuesday) corresponding to each date in the 'Date' column.\""
      ]
     },
     "execution_count": 9,
     "metadata": {},
     "output_type": "execute_result"
    }
   ],
   "source": [
    "\"\"\"Q11. You have a Pandas DataFrame df with a column 'Date'. Write a Python function that creates a new\n",
    "column 'Weekday' in the DataFrame. The 'Weekday' column should contain the weekday name (e.g.\n",
    "Monday, Tuesday) corresponding to each date in the 'Date' column.\"\"\""
   ]
  },
  {
   "cell_type": "code",
   "execution_count": 5,
   "id": "3ed8c0b6-f245-485f-b938-6ce3c6f10278",
   "metadata": {},
   "outputs": [],
   "source": [
    "import pandas as pd\n",
    "Date= {\"Date\": ['2023-04-01', '2023-04-02', '2023-04-03', '2023-04-04', '2023-04-05',\n",
    "                 '2023-04-06', '2023-04-07', '2023-04-08', '2023-04-09', '2023-04-10']}\n",
    "df= pd.DataFrame(Date)\n",
    "df[\"Date\"]= pd.to_datetime(df[\"Date\"])\n",
    "df[\"Weekday\"]= df[\"Date\"].dt.day_name()"
   ]
  },
  {
   "cell_type": "code",
   "execution_count": 6,
   "id": "8d8ada20-c04c-492a-b17b-d0e99559e271",
   "metadata": {},
   "outputs": [
    {
     "data": {
      "text/html": [
       "<div>\n",
       "<style scoped>\n",
       "    .dataframe tbody tr th:only-of-type {\n",
       "        vertical-align: middle;\n",
       "    }\n",
       "\n",
       "    .dataframe tbody tr th {\n",
       "        vertical-align: top;\n",
       "    }\n",
       "\n",
       "    .dataframe thead th {\n",
       "        text-align: right;\n",
       "    }\n",
       "</style>\n",
       "<table border=\"1\" class=\"dataframe\">\n",
       "  <thead>\n",
       "    <tr style=\"text-align: right;\">\n",
       "      <th></th>\n",
       "      <th>Date</th>\n",
       "      <th>Weekday</th>\n",
       "    </tr>\n",
       "  </thead>\n",
       "  <tbody>\n",
       "    <tr>\n",
       "      <th>0</th>\n",
       "      <td>2023-04-01</td>\n",
       "      <td>Saturday</td>\n",
       "    </tr>\n",
       "    <tr>\n",
       "      <th>1</th>\n",
       "      <td>2023-04-02</td>\n",
       "      <td>Sunday</td>\n",
       "    </tr>\n",
       "    <tr>\n",
       "      <th>2</th>\n",
       "      <td>2023-04-03</td>\n",
       "      <td>Monday</td>\n",
       "    </tr>\n",
       "    <tr>\n",
       "      <th>3</th>\n",
       "      <td>2023-04-04</td>\n",
       "      <td>Tuesday</td>\n",
       "    </tr>\n",
       "    <tr>\n",
       "      <th>4</th>\n",
       "      <td>2023-04-05</td>\n",
       "      <td>Wednesday</td>\n",
       "    </tr>\n",
       "    <tr>\n",
       "      <th>5</th>\n",
       "      <td>2023-04-06</td>\n",
       "      <td>Thursday</td>\n",
       "    </tr>\n",
       "    <tr>\n",
       "      <th>6</th>\n",
       "      <td>2023-04-07</td>\n",
       "      <td>Friday</td>\n",
       "    </tr>\n",
       "    <tr>\n",
       "      <th>7</th>\n",
       "      <td>2023-04-08</td>\n",
       "      <td>Saturday</td>\n",
       "    </tr>\n",
       "    <tr>\n",
       "      <th>8</th>\n",
       "      <td>2023-04-09</td>\n",
       "      <td>Sunday</td>\n",
       "    </tr>\n",
       "    <tr>\n",
       "      <th>9</th>\n",
       "      <td>2023-04-10</td>\n",
       "      <td>Monday</td>\n",
       "    </tr>\n",
       "  </tbody>\n",
       "</table>\n",
       "</div>"
      ],
      "text/plain": [
       "        Date    Weekday\n",
       "0 2023-04-01   Saturday\n",
       "1 2023-04-02     Sunday\n",
       "2 2023-04-03     Monday\n",
       "3 2023-04-04    Tuesday\n",
       "4 2023-04-05  Wednesday\n",
       "5 2023-04-06   Thursday\n",
       "6 2023-04-07     Friday\n",
       "7 2023-04-08   Saturday\n",
       "8 2023-04-09     Sunday\n",
       "9 2023-04-10     Monday"
      ]
     },
     "execution_count": 6,
     "metadata": {},
     "output_type": "execute_result"
    }
   ],
   "source": [
    "df"
   ]
  },
  {
   "cell_type": "code",
   "execution_count": 7,
   "id": "56b5d1e2-a268-46af-ac01-626e3310cbbc",
   "metadata": {},
   "outputs": [
    {
     "data": {
      "text/plain": [
       "\"Q12. Given a Pandas DataFrame df with a column 'Date' that contains timestamps, write a Python\\nfunction to select all rows where the date is between '2023-01-01' and '2023-01-31'. \""
      ]
     },
     "execution_count": 7,
     "metadata": {},
     "output_type": "execute_result"
    }
   ],
   "source": [
    "\"\"\"Q12. Given a Pandas DataFrame df with a column 'Date' that contains timestamps, write a Python\n",
    "function to select all rows where the date is between '2023-01-01' and '2023-01-31'. \"\"\""
   ]
  },
  {
   "cell_type": "code",
   "execution_count": null,
   "id": "5b08b353-ddac-47cc-b996-4927889f56ca",
   "metadata": {},
   "outputs": [],
   "source": []
  },
  {
   "cell_type": "code",
   "execution_count": 9,
   "id": "53aa4848-bb8a-45bc-bdad-2a0c24e39f69",
   "metadata": {},
   "outputs": [
    {
     "data": {
      "text/plain": [
       "'The first and foremost necessary library that needs to be imported to use the basic functions of pandas is, of course, the pandas library itself. You need to import the pandas library at the beginning of your Python script or Jupyter Notebook in order to use its functions and data structures for data manipulation and analysis.'"
      ]
     },
     "execution_count": 9,
     "metadata": {},
     "output_type": "execute_result"
    }
   ],
   "source": []
  },
  {
   "cell_type": "code",
   "execution_count": null,
   "id": "cd94711d-b426-4985-8898-62ee1edd8434",
   "metadata": {},
   "outputs": [],
   "source": []
  }
 ],
 "metadata": {
  "kernelspec": {
   "display_name": "Python 3 (ipykernel)",
   "language": "python",
   "name": "python3"
  },
  "language_info": {
   "codemirror_mode": {
    "name": "ipython",
    "version": 3
   },
   "file_extension": ".py",
   "mimetype": "text/x-python",
   "name": "python",
   "nbconvert_exporter": "python",
   "pygments_lexer": "ipython3",
   "version": "3.10.8"
  }
 },
 "nbformat": 4,
 "nbformat_minor": 5
}
